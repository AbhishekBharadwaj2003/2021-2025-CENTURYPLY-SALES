{
 "cells": [
  {
   "cell_type": "code",
   "execution_count": 1,
   "id": "08935286-64af-480c-8c34-3bd40989dcfa",
   "metadata": {},
   "outputs": [],
   "source": [
    "import pandas as pd\n",
    "import matplotlib.pyplot as plt\n",
    "import seaborn as sns"
   ]
  },
  {
   "cell_type": "code",
   "execution_count": 2,
   "id": "ddb727be-bfd0-4992-8f7b-7dc2a767580f",
   "metadata": {},
   "outputs": [],
   "source": [
    "df1 = pd.read_excel(\"Sales Data-Jan'21 to Dec'21.xlsx\", sheet_name=\"Sheet1\")\n",
    "df2 = pd.read_excel(\"Sales Data - Jan'22 to Mar'23.xlsx\", sheet_name=\"Sheet1\")\n",
    "df3 = pd.read_excel(\"Sales Data-Apr'23 to Jan'25.xlsx\", sheet_name=\"Sheet1\")"
   ]
  },
  {
   "cell_type": "code",
   "execution_count": 3,
   "id": "2348e98e-0241-45fc-9e7d-d35452dce9e6",
   "metadata": {},
   "outputs": [],
   "source": [
    "df = pd.concat([df1, df2, df3], ignore_index=True)"
   ]
  },
  {
   "cell_type": "code",
   "execution_count": 4,
   "id": "91610b05-466b-4760-88e0-a5ea092f44f1",
   "metadata": {},
   "outputs": [],
   "source": [
    "df['Date'] = pd.to_datetime(df['Date'], errors='coerce')"
   ]
  },
  {
   "cell_type": "code",
   "execution_count": 5,
   "id": "dadb5d14-e883-4e65-aabb-68237bc537e1",
   "metadata": {},
   "outputs": [],
   "source": [
    "df.rename(columns={\"Billing Qty\": \"Billing Qty (pcs)\"}, inplace=True)"
   ]
  },
  {
   "cell_type": "code",
   "execution_count": 6,
   "id": "1bce693e-85a7-4250-a495-aac41c7dab75",
   "metadata": {},
   "outputs": [
    {
     "name": "stdout",
     "output_type": "stream",
     "text": [
      "  Customer Name  Customer Code  Ship To Cust Code Ship To Cust Name Bill Type  \\\n",
      "0  N.K. Traders     10016196.0         10016196.0      N.K. Traders      ZFAC   \n",
      "1  N.K. Traders     10016196.0         10016196.0      N.K. Traders      ZFAC   \n",
      "2  N.K. Traders     10016196.0         10016196.0      N.K. Traders      ZFAC   \n",
      "3  N.K. Traders     10016196.0         10016196.0      N.K. Traders      ZFAC   \n",
      "4  N.K. Traders     10016196.0         10016196.0      N.K. Traders      ZFAC   \n",
      "\n",
      "     C        Inv.No           ODN BUS. PLACE         SO.No  ... Unnamed: 28  \\\n",
      "0  NaN  2.027009e+09  F22027008891       PH01  1.129146e+09  ...         NaN   \n",
      "1  NaN  2.027009e+09  F22027008891       PH01  1.129146e+09  ...         NaN   \n",
      "2  NaN  2.027009e+09  F22027008891       PH01  1.129146e+09  ...         NaN   \n",
      "3  NaN  2.027009e+09  F22027008891       PH01  1.129146e+09  ...         NaN   \n",
      "4  NaN  2.027009e+09  F22027008891       PH01  1.129146e+09  ...         NaN   \n",
      "\n",
      "   Unnamed: 29 Unnamed: 30  Unnamed: 31  Unnamed: 32 Unnamed: 33  Unnamed: 34  \\\n",
      "0          NaN         NaN          NaN          NaN         NaN          NaN   \n",
      "1          NaN         NaN          NaN          NaN         NaN          NaN   \n",
      "2          NaN         NaN          NaN          NaN         NaN          NaN   \n",
      "3          NaN         NaN          NaN          NaN         NaN          NaN   \n",
      "4          NaN         NaN          NaN          NaN         NaN          NaN   \n",
      "\n",
      "  Unnamed: 35 Unnamed: 36  Unnamed: 37  \n",
      "0         NaN         NaN          NaN  \n",
      "1         NaN         NaN          NaN  \n",
      "2         NaN         NaN          NaN  \n",
      "3         NaN         NaN          NaN  \n",
      "4         NaN         NaN          NaN  \n",
      "\n",
      "[5 rows x 76 columns]\n"
     ]
    }
   ],
   "source": [
    "print(df.head())"
   ]
  },
  {
   "cell_type": "code",
   "execution_count": 7,
   "id": "06a60d90-c732-41a2-a8e9-f0854cc5646f",
   "metadata": {},
   "outputs": [
    {
     "name": "stdout",
     "output_type": "stream",
     "text": [
      "Customer Name        293296\n",
      "Customer Code        293296\n",
      "Ship To Cust Code    293296\n",
      "Ship To Cust Name    293296\n",
      "Bill Type            293296\n",
      "                      ...  \n",
      "Unnamed: 33          194935\n",
      "Unnamed: 34          194935\n",
      "Unnamed: 35          194935\n",
      "Unnamed: 36          194935\n",
      "Unnamed: 37          194935\n",
      "Length: 76, dtype: int64\n"
     ]
    }
   ],
   "source": [
    "print(df.isnull().sum())"
   ]
  },
  {
   "cell_type": "code",
   "execution_count": null,
   "id": "1d88b87e-9761-439c-be13-bf115cce4ee8",
   "metadata": {},
   "outputs": [],
   "source": []
  }
 ],
 "metadata": {
  "kernelspec": {
   "display_name": "Python 3 (ipykernel)",
   "language": "python",
   "name": "python3"
  },
  "language_info": {
   "codemirror_mode": {
    "name": "ipython",
    "version": 3
   },
   "file_extension": ".py",
   "mimetype": "text/x-python",
   "name": "python",
   "nbconvert_exporter": "python",
   "pygments_lexer": "ipython3",
   "version": "3.12.7"
  }
 },
 "nbformat": 4,
 "nbformat_minor": 5
}
